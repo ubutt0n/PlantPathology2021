{
 "cells": [
  {
   "cell_type": "code",
   "execution_count": 1,
   "id": "0ffebe12",
   "metadata": {
    "_cell_guid": "b1076dfc-b9ad-4769-8c92-a6c4dae69d19",
    "_uuid": "8f2839f25d086af736a60e9eeb907d3b93b6e0e5",
    "execution": {
     "iopub.execute_input": "2022-05-19T10:37:17.689914Z",
     "iopub.status.busy": "2022-05-19T10:37:17.689177Z",
     "iopub.status.idle": "2022-05-19T10:37:17.700110Z",
     "shell.execute_reply": "2022-05-19T10:37:17.699497Z"
    },
    "papermill": {
     "duration": 0.034183,
     "end_time": "2022-05-19T10:37:17.701967",
     "exception": false,
     "start_time": "2022-05-19T10:37:17.667784",
     "status": "completed"
    },
    "tags": []
   },
   "outputs": [],
   "source": [
    "# This Python 3 environment comes with many helpful analytics libraries installed\n",
    "# It is defined by the kaggle/python Docker image: https://github.com/kaggle/docker-python\n",
    "# For example, here's several helpful packages to load\n",
    "\n",
    "import numpy as np # linear algebra\n",
    "import pandas as pd # data processing, CSV file I/O (e.g. pd.read_csv)\n",
    "\n",
    "# Input data files are available in the read-only \"../input/\" directory\n",
    "# For example, running this (by clicking run or pressing Shift+Enter) will list all files under the input directory\n",
    "\n",
    "import os\n",
    "\n",
    "# You can write up to 20GB to the current directory (/kaggle/working/) that gets preserved as output when you create a version using \"Save & Run All\" \n",
    "# You can also write temporary files to /kaggle/temp/, but they won't be saved outside of the current session"
   ]
  },
  {
   "cell_type": "code",
   "execution_count": 2,
   "id": "8b73fea3",
   "metadata": {
    "execution": {
     "iopub.execute_input": "2022-05-19T10:37:17.738312Z",
     "iopub.status.busy": "2022-05-19T10:37:17.738128Z",
     "iopub.status.idle": "2022-05-19T10:37:20.372436Z",
     "shell.execute_reply": "2022-05-19T10:37:20.371698Z"
    },
    "papermill": {
     "duration": 2.654749,
     "end_time": "2022-05-19T10:37:20.374553",
     "exception": false,
     "start_time": "2022-05-19T10:37:17.719804",
     "status": "completed"
    },
    "tags": []
   },
   "outputs": [],
   "source": [
    "import torch\n",
    "import torch.nn as nn\n",
    "import torch.nn.functional as F\n",
    "import torch.optim as optim\n",
    "from torch.utils.data import Dataset, DataLoader\n",
    "import cv2\n",
    "from sklearn.preprocessing import LabelEncoder"
   ]
  },
  {
   "cell_type": "code",
   "execution_count": 3,
   "id": "79bc7cdb",
   "metadata": {
    "execution": {
     "iopub.execute_input": "2022-05-19T10:37:20.412323Z",
     "iopub.status.busy": "2022-05-19T10:37:20.411695Z",
     "iopub.status.idle": "2022-05-19T10:37:20.465386Z",
     "shell.execute_reply": "2022-05-19T10:37:20.464740Z"
    },
    "papermill": {
     "duration": 0.074233,
     "end_time": "2022-05-19T10:37:20.467190",
     "exception": false,
     "start_time": "2022-05-19T10:37:20.392957",
     "status": "completed"
    },
    "tags": []
   },
   "outputs": [],
   "source": [
    "dataset = pd.read_csv('../input/plant-pathology-2021-fgvc8/train.csv')"
   ]
  },
  {
   "cell_type": "code",
   "execution_count": 4,
   "id": "539c82aa",
   "metadata": {
    "execution": {
     "iopub.execute_input": "2022-05-19T10:37:20.504702Z",
     "iopub.status.busy": "2022-05-19T10:37:20.504044Z",
     "iopub.status.idle": "2022-05-19T10:37:20.507664Z",
     "shell.execute_reply": "2022-05-19T10:37:20.506911Z"
    },
    "papermill": {
     "duration": 0.024138,
     "end_time": "2022-05-19T10:37:20.509535",
     "exception": false,
     "start_time": "2022-05-19T10:37:20.485397",
     "status": "completed"
    },
    "tags": []
   },
   "outputs": [],
   "source": [
    "lbEncode = LabelEncoder()"
   ]
  },
  {
   "cell_type": "code",
   "execution_count": 5,
   "id": "904b19c9",
   "metadata": {
    "execution": {
     "iopub.execute_input": "2022-05-19T10:37:20.547437Z",
     "iopub.status.busy": "2022-05-19T10:37:20.546887Z",
     "iopub.status.idle": "2022-05-19T10:37:20.560520Z",
     "shell.execute_reply": "2022-05-19T10:37:20.559897Z"
    },
    "papermill": {
     "duration": 0.034002,
     "end_time": "2022-05-19T10:37:20.562136",
     "exception": false,
     "start_time": "2022-05-19T10:37:20.528134",
     "status": "completed"
    },
    "tags": []
   },
   "outputs": [],
   "source": [
    "dataset['labels'] = lbEncode.fit_transform(dataset['labels'])"
   ]
  },
  {
   "cell_type": "code",
   "execution_count": 6,
   "id": "5534c698",
   "metadata": {
    "execution": {
     "iopub.execute_input": "2022-05-19T10:37:20.598773Z",
     "iopub.status.busy": "2022-05-19T10:37:20.598590Z",
     "iopub.status.idle": "2022-05-19T10:37:20.601772Z",
     "shell.execute_reply": "2022-05-19T10:37:20.601036Z"
    },
    "papermill": {
     "duration": 0.023474,
     "end_time": "2022-05-19T10:37:20.603699",
     "exception": false,
     "start_time": "2022-05-19T10:37:20.580225",
     "status": "completed"
    },
    "tags": []
   },
   "outputs": [],
   "source": [
    "PATH = \"../input/plant-pathology-2021-fgvc8/test_images/\""
   ]
  },
  {
   "cell_type": "code",
   "execution_count": 7,
   "id": "fe96ab23",
   "metadata": {
    "execution": {
     "iopub.execute_input": "2022-05-19T10:37:20.639505Z",
     "iopub.status.busy": "2022-05-19T10:37:20.639321Z",
     "iopub.status.idle": "2022-05-19T10:37:20.643130Z",
     "shell.execute_reply": "2022-05-19T10:37:20.642381Z"
    },
    "papermill": {
     "duration": 0.023834,
     "end_time": "2022-05-19T10:37:20.645016",
     "exception": false,
     "start_time": "2022-05-19T10:37:20.621182",
     "status": "completed"
    },
    "tags": []
   },
   "outputs": [],
   "source": [
    "def load_image(image_id):\n",
    "    file_path = str(image_id)\n",
    "    img = cv2.imread(PATH+file_path)\n",
    "    return cv2.cvtColor(img, cv2.COLOR_BGR2RGB)"
   ]
  },
  {
   "cell_type": "code",
   "execution_count": 8,
   "id": "5a0b9f88",
   "metadata": {
    "execution": {
     "iopub.execute_input": "2022-05-19T10:37:20.683692Z",
     "iopub.status.busy": "2022-05-19T10:37:20.683517Z",
     "iopub.status.idle": "2022-05-19T10:37:20.736194Z",
     "shell.execute_reply": "2022-05-19T10:37:20.735543Z"
    },
    "papermill": {
     "duration": 0.073611,
     "end_time": "2022-05-19T10:37:20.737798",
     "exception": false,
     "start_time": "2022-05-19T10:37:20.664187",
     "status": "completed"
    },
    "tags": []
   },
   "outputs": [],
   "source": [
    "device = torch.device('cuda' if torch.cuda.is_available() else 'cpu')"
   ]
  },
  {
   "cell_type": "code",
   "execution_count": 9,
   "id": "d8f8663a",
   "metadata": {
    "execution": {
     "iopub.execute_input": "2022-05-19T10:37:20.774146Z",
     "iopub.status.busy": "2022-05-19T10:37:20.773919Z",
     "iopub.status.idle": "2022-05-19T10:37:20.782494Z",
     "shell.execute_reply": "2022-05-19T10:37:20.781855Z"
    },
    "papermill": {
     "duration": 0.028676,
     "end_time": "2022-05-19T10:37:20.784089",
     "exception": false,
     "start_time": "2022-05-19T10:37:20.755413",
     "status": "completed"
    },
    "tags": []
   },
   "outputs": [],
   "source": [
    "class bottleNeck(nn.Module):\n",
    "    expansion = 4\n",
    "    def __init__(self, in_planes, planes, stride=1, dim_change=None):\n",
    "        super(bottleNeck, self).__init__()\n",
    "        \n",
    "        self.conv1 = nn.Conv2d(in_planes, planes, stride=1, kernel_size=1)\n",
    "        self.bn1 = nn.BatchNorm2d(planes)\n",
    "        self.conv2 = nn.Conv2d(planes, planes, stride=stride, kernel_size=3, padding=1)\n",
    "        self.bn2 = nn.BatchNorm2d(planes)\n",
    "        self.conv3 = nn.Conv2d(planes, planes*self.expansion, kernel_size=1)\n",
    "        self.bn3 = nn.BatchNorm2d(planes*self.expansion)\n",
    "        self.dim_change = dim_change\n",
    "    \n",
    "    def forward(self, x):\n",
    "        res = x\n",
    "        \n",
    "        out = F.relu(self.bn1(self.conv1(x)))\n",
    "        out = F.relu(self.bn2(self.conv2(out)))\n",
    "        out = self.bn3(self.conv3(out))\n",
    "        \n",
    "        if self.dim_change is not None:\n",
    "            res = self.dim_change(res)\n",
    "            \n",
    "        out += res\n",
    "        out = F.relu(out)\n",
    "        \n",
    "        return out"
   ]
  },
  {
   "cell_type": "code",
   "execution_count": 10,
   "id": "84716b32",
   "metadata": {
    "execution": {
     "iopub.execute_input": "2022-05-19T10:37:20.823651Z",
     "iopub.status.busy": "2022-05-19T10:37:20.823091Z",
     "iopub.status.idle": "2022-05-19T10:37:20.830593Z",
     "shell.execute_reply": "2022-05-19T10:37:20.829984Z"
    },
    "papermill": {
     "duration": 0.027631,
     "end_time": "2022-05-19T10:37:20.832297",
     "exception": false,
     "start_time": "2022-05-19T10:37:20.804666",
     "status": "completed"
    },
    "tags": []
   },
   "outputs": [],
   "source": [
    "class baseBlock(nn.Module):\n",
    "    expansion = 1\n",
    "    def __init__(self, in_planes, planes, stride=1, dim_change=None):\n",
    "        super(baseBlock, self).__init__()\n",
    "        \n",
    "        self.conv1 = nn.Conv2d(in_planes, planes, stride=stride, kernel_size=3, padding=1)\n",
    "        self.bn1 = nn.BatchNorm2d(planes)\n",
    "        self.conv2 = nn.Conv2d(planes, planes, stride=1, kernel_size=3, padding=1)\n",
    "        self.bn2 = nn.BatchNorm2d(planes)\n",
    "        self.dim_change = dim_change\n",
    "    def forward(self, x):\n",
    "        res = x\n",
    "        \n",
    "        out = F.relu(self.bn1(self.conv1(x)))\n",
    "        out = self.bn2(self.conv2(out))\n",
    "        \n",
    "        if self.dim_change is not None:\n",
    "            res = self.dim_change(res)\n",
    "        \n",
    "        out += res\n",
    "        out = F.relu(out)\n",
    "        \n",
    "        return out"
   ]
  },
  {
   "cell_type": "code",
   "execution_count": 11,
   "id": "6cee5fc6",
   "metadata": {
    "execution": {
     "iopub.execute_input": "2022-05-19T10:37:20.870643Z",
     "iopub.status.busy": "2022-05-19T10:37:20.869961Z",
     "iopub.status.idle": "2022-05-19T10:37:20.884194Z",
     "shell.execute_reply": "2022-05-19T10:37:20.883460Z"
    },
    "papermill": {
     "duration": 0.035635,
     "end_time": "2022-05-19T10:37:20.886032",
     "exception": false,
     "start_time": "2022-05-19T10:37:20.850397",
     "status": "completed"
    },
    "tags": []
   },
   "outputs": [],
   "source": [
    "class ResNet(nn.Module):\n",
    "    def __init__(self, block, num_layers, num_classes=12):\n",
    "        super(ResNet, self).__init__()\n",
    "        \n",
    "        self.in_planes = 64\n",
    "        self.conv1 = nn.Conv2d(3, 64, kernel_size=3, stride=1, padding=1)\n",
    "        self.bn1 = nn.BatchNorm2d(64)\n",
    "        self.layer1 = self._layer(block, 64, num_layers[0], stride=1)\n",
    "        self.layer2 = self._layer(block, 128, num_layers[1], stride=2)\n",
    "        self.layer3 = self._layer(block, 256, num_layers[2], stride=2)\n",
    "        self.layer4 = self._layer(block, 512, num_layers[3], stride=2)\n",
    "        self.avgPool = nn.AvgPool2d(kernel_size=4, stride=1)\n",
    "        self.fc = nn.Linear(25088, num_classes)\n",
    "        \n",
    "    def _layer(self, block, planes, num_layers, stride=1):\n",
    "        dim_change = None\n",
    "        if stride != 1 or planes != self.in_planes * block.expansion:\n",
    "            dim_change = nn.Sequential(nn.Conv2d(self.in_planes, planes*block.expansion, kernel_size=1, stride=stride),\n",
    "                                       nn.BatchNorm2d(planes*block.expansion))\n",
    "        netLayers = []\n",
    "        netLayers.append(block(self.in_planes, planes, stride=stride, dim_change=dim_change))\n",
    "        self.in_planes = planes * block.expansion\n",
    "        for i in range(1, num_layers):\n",
    "            netLayers.append(block(self.in_planes, planes))\n",
    "            self.in_planes = planes * block.expansion\n",
    "            \n",
    "        return nn.Sequential(*netLayers)\n",
    "    \n",
    "    def forward(self, x):\n",
    "        x = F.relu(self.bn1(self.conv1(x)))\n",
    "        \n",
    "        x = self.layer1(x)\n",
    "        x = self.layer2(x)\n",
    "        x = self.layer3(x)\n",
    "        x = self.layer4(x)\n",
    "        \n",
    "        x = F.avg_pool2d(x, 4)\n",
    "        x = x.flatten(1)\n",
    "        x = self.fc(x)\n",
    "        \n",
    "        return x"
   ]
  },
  {
   "cell_type": "code",
   "execution_count": 12,
   "id": "421098eb",
   "metadata": {
    "execution": {
     "iopub.execute_input": "2022-05-19T10:37:20.925059Z",
     "iopub.status.busy": "2022-05-19T10:37:20.924807Z",
     "iopub.status.idle": "2022-05-19T10:37:24.976846Z",
     "shell.execute_reply": "2022-05-19T10:37:24.976126Z"
    },
    "papermill": {
     "duration": 4.074243,
     "end_time": "2022-05-19T10:37:24.979635",
     "exception": false,
     "start_time": "2022-05-19T10:37:20.905392",
     "status": "completed"
    },
    "tags": []
   },
   "outputs": [
    {
     "data": {
      "text/plain": [
       "ResNet(\n",
       "  (conv1): Conv2d(3, 64, kernel_size=(3, 3), stride=(1, 1), padding=(1, 1))\n",
       "  (bn1): BatchNorm2d(64, eps=1e-05, momentum=0.1, affine=True, track_running_stats=True)\n",
       "  (layer1): Sequential(\n",
       "    (0): baseBlock(\n",
       "      (conv1): Conv2d(64, 64, kernel_size=(3, 3), stride=(1, 1), padding=(1, 1))\n",
       "      (bn1): BatchNorm2d(64, eps=1e-05, momentum=0.1, affine=True, track_running_stats=True)\n",
       "      (conv2): Conv2d(64, 64, kernel_size=(3, 3), stride=(1, 1), padding=(1, 1))\n",
       "      (bn2): BatchNorm2d(64, eps=1e-05, momentum=0.1, affine=True, track_running_stats=True)\n",
       "    )\n",
       "    (1): baseBlock(\n",
       "      (conv1): Conv2d(64, 64, kernel_size=(3, 3), stride=(1, 1), padding=(1, 1))\n",
       "      (bn1): BatchNorm2d(64, eps=1e-05, momentum=0.1, affine=True, track_running_stats=True)\n",
       "      (conv2): Conv2d(64, 64, kernel_size=(3, 3), stride=(1, 1), padding=(1, 1))\n",
       "      (bn2): BatchNorm2d(64, eps=1e-05, momentum=0.1, affine=True, track_running_stats=True)\n",
       "    )\n",
       "    (2): baseBlock(\n",
       "      (conv1): Conv2d(64, 64, kernel_size=(3, 3), stride=(1, 1), padding=(1, 1))\n",
       "      (bn1): BatchNorm2d(64, eps=1e-05, momentum=0.1, affine=True, track_running_stats=True)\n",
       "      (conv2): Conv2d(64, 64, kernel_size=(3, 3), stride=(1, 1), padding=(1, 1))\n",
       "      (bn2): BatchNorm2d(64, eps=1e-05, momentum=0.1, affine=True, track_running_stats=True)\n",
       "    )\n",
       "  )\n",
       "  (layer2): Sequential(\n",
       "    (0): baseBlock(\n",
       "      (conv1): Conv2d(64, 128, kernel_size=(3, 3), stride=(2, 2), padding=(1, 1))\n",
       "      (bn1): BatchNorm2d(128, eps=1e-05, momentum=0.1, affine=True, track_running_stats=True)\n",
       "      (conv2): Conv2d(128, 128, kernel_size=(3, 3), stride=(1, 1), padding=(1, 1))\n",
       "      (bn2): BatchNorm2d(128, eps=1e-05, momentum=0.1, affine=True, track_running_stats=True)\n",
       "      (dim_change): Sequential(\n",
       "        (0): Conv2d(64, 128, kernel_size=(1, 1), stride=(2, 2))\n",
       "        (1): BatchNorm2d(128, eps=1e-05, momentum=0.1, affine=True, track_running_stats=True)\n",
       "      )\n",
       "    )\n",
       "    (1): baseBlock(\n",
       "      (conv1): Conv2d(128, 128, kernel_size=(3, 3), stride=(1, 1), padding=(1, 1))\n",
       "      (bn1): BatchNorm2d(128, eps=1e-05, momentum=0.1, affine=True, track_running_stats=True)\n",
       "      (conv2): Conv2d(128, 128, kernel_size=(3, 3), stride=(1, 1), padding=(1, 1))\n",
       "      (bn2): BatchNorm2d(128, eps=1e-05, momentum=0.1, affine=True, track_running_stats=True)\n",
       "    )\n",
       "    (2): baseBlock(\n",
       "      (conv1): Conv2d(128, 128, kernel_size=(3, 3), stride=(1, 1), padding=(1, 1))\n",
       "      (bn1): BatchNorm2d(128, eps=1e-05, momentum=0.1, affine=True, track_running_stats=True)\n",
       "      (conv2): Conv2d(128, 128, kernel_size=(3, 3), stride=(1, 1), padding=(1, 1))\n",
       "      (bn2): BatchNorm2d(128, eps=1e-05, momentum=0.1, affine=True, track_running_stats=True)\n",
       "    )\n",
       "    (3): baseBlock(\n",
       "      (conv1): Conv2d(128, 128, kernel_size=(3, 3), stride=(1, 1), padding=(1, 1))\n",
       "      (bn1): BatchNorm2d(128, eps=1e-05, momentum=0.1, affine=True, track_running_stats=True)\n",
       "      (conv2): Conv2d(128, 128, kernel_size=(3, 3), stride=(1, 1), padding=(1, 1))\n",
       "      (bn2): BatchNorm2d(128, eps=1e-05, momentum=0.1, affine=True, track_running_stats=True)\n",
       "    )\n",
       "  )\n",
       "  (layer3): Sequential(\n",
       "    (0): baseBlock(\n",
       "      (conv1): Conv2d(128, 256, kernel_size=(3, 3), stride=(2, 2), padding=(1, 1))\n",
       "      (bn1): BatchNorm2d(256, eps=1e-05, momentum=0.1, affine=True, track_running_stats=True)\n",
       "      (conv2): Conv2d(256, 256, kernel_size=(3, 3), stride=(1, 1), padding=(1, 1))\n",
       "      (bn2): BatchNorm2d(256, eps=1e-05, momentum=0.1, affine=True, track_running_stats=True)\n",
       "      (dim_change): Sequential(\n",
       "        (0): Conv2d(128, 256, kernel_size=(1, 1), stride=(2, 2))\n",
       "        (1): BatchNorm2d(256, eps=1e-05, momentum=0.1, affine=True, track_running_stats=True)\n",
       "      )\n",
       "    )\n",
       "    (1): baseBlock(\n",
       "      (conv1): Conv2d(256, 256, kernel_size=(3, 3), stride=(1, 1), padding=(1, 1))\n",
       "      (bn1): BatchNorm2d(256, eps=1e-05, momentum=0.1, affine=True, track_running_stats=True)\n",
       "      (conv2): Conv2d(256, 256, kernel_size=(3, 3), stride=(1, 1), padding=(1, 1))\n",
       "      (bn2): BatchNorm2d(256, eps=1e-05, momentum=0.1, affine=True, track_running_stats=True)\n",
       "    )\n",
       "    (2): baseBlock(\n",
       "      (conv1): Conv2d(256, 256, kernel_size=(3, 3), stride=(1, 1), padding=(1, 1))\n",
       "      (bn1): BatchNorm2d(256, eps=1e-05, momentum=0.1, affine=True, track_running_stats=True)\n",
       "      (conv2): Conv2d(256, 256, kernel_size=(3, 3), stride=(1, 1), padding=(1, 1))\n",
       "      (bn2): BatchNorm2d(256, eps=1e-05, momentum=0.1, affine=True, track_running_stats=True)\n",
       "    )\n",
       "    (3): baseBlock(\n",
       "      (conv1): Conv2d(256, 256, kernel_size=(3, 3), stride=(1, 1), padding=(1, 1))\n",
       "      (bn1): BatchNorm2d(256, eps=1e-05, momentum=0.1, affine=True, track_running_stats=True)\n",
       "      (conv2): Conv2d(256, 256, kernel_size=(3, 3), stride=(1, 1), padding=(1, 1))\n",
       "      (bn2): BatchNorm2d(256, eps=1e-05, momentum=0.1, affine=True, track_running_stats=True)\n",
       "    )\n",
       "    (4): baseBlock(\n",
       "      (conv1): Conv2d(256, 256, kernel_size=(3, 3), stride=(1, 1), padding=(1, 1))\n",
       "      (bn1): BatchNorm2d(256, eps=1e-05, momentum=0.1, affine=True, track_running_stats=True)\n",
       "      (conv2): Conv2d(256, 256, kernel_size=(3, 3), stride=(1, 1), padding=(1, 1))\n",
       "      (bn2): BatchNorm2d(256, eps=1e-05, momentum=0.1, affine=True, track_running_stats=True)\n",
       "    )\n",
       "    (5): baseBlock(\n",
       "      (conv1): Conv2d(256, 256, kernel_size=(3, 3), stride=(1, 1), padding=(1, 1))\n",
       "      (bn1): BatchNorm2d(256, eps=1e-05, momentum=0.1, affine=True, track_running_stats=True)\n",
       "      (conv2): Conv2d(256, 256, kernel_size=(3, 3), stride=(1, 1), padding=(1, 1))\n",
       "      (bn2): BatchNorm2d(256, eps=1e-05, momentum=0.1, affine=True, track_running_stats=True)\n",
       "    )\n",
       "  )\n",
       "  (layer4): Sequential(\n",
       "    (0): baseBlock(\n",
       "      (conv1): Conv2d(256, 512, kernel_size=(3, 3), stride=(2, 2), padding=(1, 1))\n",
       "      (bn1): BatchNorm2d(512, eps=1e-05, momentum=0.1, affine=True, track_running_stats=True)\n",
       "      (conv2): Conv2d(512, 512, kernel_size=(3, 3), stride=(1, 1), padding=(1, 1))\n",
       "      (bn2): BatchNorm2d(512, eps=1e-05, momentum=0.1, affine=True, track_running_stats=True)\n",
       "      (dim_change): Sequential(\n",
       "        (0): Conv2d(256, 512, kernel_size=(1, 1), stride=(2, 2))\n",
       "        (1): BatchNorm2d(512, eps=1e-05, momentum=0.1, affine=True, track_running_stats=True)\n",
       "      )\n",
       "    )\n",
       "    (1): baseBlock(\n",
       "      (conv1): Conv2d(512, 512, kernel_size=(3, 3), stride=(1, 1), padding=(1, 1))\n",
       "      (bn1): BatchNorm2d(512, eps=1e-05, momentum=0.1, affine=True, track_running_stats=True)\n",
       "      (conv2): Conv2d(512, 512, kernel_size=(3, 3), stride=(1, 1), padding=(1, 1))\n",
       "      (bn2): BatchNorm2d(512, eps=1e-05, momentum=0.1, affine=True, track_running_stats=True)\n",
       "    )\n",
       "    (2): baseBlock(\n",
       "      (conv1): Conv2d(512, 512, kernel_size=(3, 3), stride=(1, 1), padding=(1, 1))\n",
       "      (bn1): BatchNorm2d(512, eps=1e-05, momentum=0.1, affine=True, track_running_stats=True)\n",
       "      (conv2): Conv2d(512, 512, kernel_size=(3, 3), stride=(1, 1), padding=(1, 1))\n",
       "      (bn2): BatchNorm2d(512, eps=1e-05, momentum=0.1, affine=True, track_running_stats=True)\n",
       "    )\n",
       "  )\n",
       "  (avgPool): AvgPool2d(kernel_size=4, stride=1, padding=0)\n",
       "  (fc): Linear(in_features=25088, out_features=12, bias=True)\n",
       ")"
      ]
     },
     "execution_count": 12,
     "metadata": {},
     "output_type": "execute_result"
    }
   ],
   "source": [
    "model = ResNet(baseBlock, [3, 4, 6, 3]).to(device)\n",
    "model.load_state_dict(torch.load('../input/plant-pathology/model.pth'))\n",
    "model.eval()"
   ]
  },
  {
   "cell_type": "code",
   "execution_count": 13,
   "id": "69efcb3f",
   "metadata": {
    "execution": {
     "iopub.execute_input": "2022-05-19T10:37:25.019334Z",
     "iopub.status.busy": "2022-05-19T10:37:25.018736Z",
     "iopub.status.idle": "2022-05-19T10:37:25.023154Z",
     "shell.execute_reply": "2022-05-19T10:37:25.022495Z"
    },
    "papermill": {
     "duration": 0.025554,
     "end_time": "2022-05-19T10:37:25.024843",
     "exception": false,
     "start_time": "2022-05-19T10:37:24.999289",
     "status": "completed"
    },
    "tags": []
   },
   "outputs": [],
   "source": [
    "def preprocess(img):\n",
    "    image = load_image(img)\n",
    "    image = cv2.resize(image, (224, 224))\n",
    "    image = torch.tensor(image, dtype=torch.float32) / 255\n",
    "    image = image.reshape(3, 224, 224)\n",
    "    \n",
    "    return image"
   ]
  },
  {
   "cell_type": "code",
   "execution_count": 14,
   "id": "3cfe0e42",
   "metadata": {
    "execution": {
     "iopub.execute_input": "2022-05-19T10:37:25.062195Z",
     "iopub.status.busy": "2022-05-19T10:37:25.061629Z",
     "iopub.status.idle": "2022-05-19T10:37:25.068447Z",
     "shell.execute_reply": "2022-05-19T10:37:25.067832Z"
    },
    "papermill": {
     "duration": 0.02703,
     "end_time": "2022-05-19T10:37:25.069966",
     "exception": false,
     "start_time": "2022-05-19T10:37:25.042936",
     "status": "completed"
    },
    "tags": []
   },
   "outputs": [],
   "source": [
    "class Data(Dataset):\n",
    "    def __init__(self, X, y=None, transform=None):\n",
    "        self.image_id = X\n",
    "        self.labels = y\n",
    "        self.transforms = transform\n",
    "    \n",
    "    def __len__(self):\n",
    "        return len(self.image_id)\n",
    "    \n",
    "    def __getitem__(self, idx):\n",
    "        if self.labels is not None:\n",
    "            image_id = self.image_id[idx][0]\n",
    "            label = self.labels[idx]\n",
    "        \n",
    "            image = preprocess(image_id)\n",
    "            if self.transforms:\n",
    "                image = self.transforms(image)\n",
    "        \n",
    "            return image, label\n",
    "        else:\n",
    "            image_id = self.image_id[idx][0]\n",
    "        \n",
    "            image = preprocess(image_id)\n",
    "            if self.transforms:\n",
    "                image = self.transforms(image)\n",
    "            \n",
    "            return image"
   ]
  },
  {
   "cell_type": "code",
   "execution_count": 15,
   "id": "29afeddb",
   "metadata": {
    "execution": {
     "iopub.execute_input": "2022-05-19T10:37:25.107073Z",
     "iopub.status.busy": "2022-05-19T10:37:25.106594Z",
     "iopub.status.idle": "2022-05-19T10:37:25.111185Z",
     "shell.execute_reply": "2022-05-19T10:37:25.110557Z"
    },
    "papermill": {
     "duration": 0.024783,
     "end_time": "2022-05-19T10:37:25.112741",
     "exception": false,
     "start_time": "2022-05-19T10:37:25.087958",
     "status": "completed"
    },
    "tags": []
   },
   "outputs": [],
   "source": [
    "def predict(data_load):\n",
    "    test_pred = torch.LongTensor()\n",
    "    \n",
    "    for i, image in enumerate(data_load):\n",
    "        image = image.to(device)\n",
    "        \n",
    "        output = model(image)\n",
    "        \n",
    "        pred = output.cpu().max(1, keepdim=True)[1]\n",
    "        test_pred = torch.cat((test_pred, pred), dim=0)\n",
    "        \n",
    "    return test_pred"
   ]
  },
  {
   "cell_type": "code",
   "execution_count": 16,
   "id": "05f0c267",
   "metadata": {
    "execution": {
     "iopub.execute_input": "2022-05-19T10:37:25.150720Z",
     "iopub.status.busy": "2022-05-19T10:37:25.150540Z",
     "iopub.status.idle": "2022-05-19T10:37:25.164880Z",
     "shell.execute_reply": "2022-05-19T10:37:25.164296Z"
    },
    "papermill": {
     "duration": 0.035383,
     "end_time": "2022-05-19T10:37:25.166543",
     "exception": false,
     "start_time": "2022-05-19T10:37:25.131160",
     "status": "completed"
    },
    "tags": []
   },
   "outputs": [],
   "source": [
    "test_dataset = pd.read_csv('../input/plant-pathology-2021-fgvc8/sample_submission.csv')\n",
    "test_dataset = test_dataset.drop(['labels'], axis=1)"
   ]
  },
  {
   "cell_type": "code",
   "execution_count": 17,
   "id": "89115a03",
   "metadata": {
    "execution": {
     "iopub.execute_input": "2022-05-19T10:37:25.203818Z",
     "iopub.status.busy": "2022-05-19T10:37:25.203628Z",
     "iopub.status.idle": "2022-05-19T10:37:25.207140Z",
     "shell.execute_reply": "2022-05-19T10:37:25.206444Z"
    },
    "papermill": {
     "duration": 0.024009,
     "end_time": "2022-05-19T10:37:25.208929",
     "exception": false,
     "start_time": "2022-05-19T10:37:25.184920",
     "status": "completed"
    },
    "tags": []
   },
   "outputs": [],
   "source": [
    "test_data = Data(test_dataset.values)\n",
    "test_loader = DataLoader(test_data, batch_size=4)"
   ]
  },
  {
   "cell_type": "code",
   "execution_count": 18,
   "id": "b8fac682",
   "metadata": {
    "execution": {
     "iopub.execute_input": "2022-05-19T10:37:25.246941Z",
     "iopub.status.busy": "2022-05-19T10:37:25.246414Z",
     "iopub.status.idle": "2022-05-19T10:37:31.712620Z",
     "shell.execute_reply": "2022-05-19T10:37:31.711854Z"
    },
    "papermill": {
     "duration": 6.487142,
     "end_time": "2022-05-19T10:37:31.714418",
     "exception": false,
     "start_time": "2022-05-19T10:37:25.227276",
     "status": "completed"
    },
    "tags": []
   },
   "outputs": [
    {
     "data": {
      "text/plain": [
       "tensor([[6],\n",
       "        [0],\n",
       "        [9]])"
      ]
     },
     "execution_count": 18,
     "metadata": {},
     "output_type": "execute_result"
    }
   ],
   "source": [
    "predictions = predict(test_loader)\n",
    "predictions"
   ]
  },
  {
   "cell_type": "code",
   "execution_count": 19,
   "id": "70fe8578",
   "metadata": {
    "execution": {
     "iopub.execute_input": "2022-05-19T10:37:31.753655Z",
     "iopub.status.busy": "2022-05-19T10:37:31.753448Z",
     "iopub.status.idle": "2022-05-19T10:37:31.758748Z",
     "shell.execute_reply": "2022-05-19T10:37:31.758098Z"
    },
    "papermill": {
     "duration": 0.027157,
     "end_time": "2022-05-19T10:37:31.760416",
     "exception": false,
     "start_time": "2022-05-19T10:37:31.733259",
     "status": "completed"
    },
    "tags": []
   },
   "outputs": [],
   "source": [
    "predict_df = pd.DataFrame(lbEncode.inverse_transform(predictions.numpy().ravel()))"
   ]
  },
  {
   "cell_type": "code",
   "execution_count": 20,
   "id": "1a819c38",
   "metadata": {
    "execution": {
     "iopub.execute_input": "2022-05-19T10:37:31.802042Z",
     "iopub.status.busy": "2022-05-19T10:37:31.801842Z",
     "iopub.status.idle": "2022-05-19T10:37:31.807777Z",
     "shell.execute_reply": "2022-05-19T10:37:31.807154Z"
    },
    "papermill": {
     "duration": 0.029592,
     "end_time": "2022-05-19T10:37:31.809476",
     "exception": false,
     "start_time": "2022-05-19T10:37:31.779884",
     "status": "completed"
    },
    "tags": []
   },
   "outputs": [],
   "source": [
    "predict_df = pd.concat([test_dataset, predict_df], ignore_index=True, axis=1)\n",
    "predict_df = predict_df.rename(columns={predict_df.columns[0]: 'image', predict_df.columns[1]: 'labels'})"
   ]
  },
  {
   "cell_type": "code",
   "execution_count": 21,
   "id": "a4ae1a08",
   "metadata": {
    "execution": {
     "iopub.execute_input": "2022-05-19T10:37:31.847738Z",
     "iopub.status.busy": "2022-05-19T10:37:31.847538Z",
     "iopub.status.idle": "2022-05-19T10:37:31.853253Z",
     "shell.execute_reply": "2022-05-19T10:37:31.852663Z"
    },
    "papermill": {
     "duration": 0.026871,
     "end_time": "2022-05-19T10:37:31.854871",
     "exception": false,
     "start_time": "2022-05-19T10:37:31.828000",
     "status": "completed"
    },
    "tags": []
   },
   "outputs": [],
   "source": [
    "predict_df.to_csv('submission.csv', index=False)"
   ]
  }
 ],
 "metadata": {
  "kernelspec": {
   "display_name": "Python 3",
   "language": "python",
   "name": "python3"
  },
  "language_info": {
   "codemirror_mode": {
    "name": "ipython",
    "version": 3
   },
   "file_extension": ".py",
   "mimetype": "text/x-python",
   "name": "python",
   "nbconvert_exporter": "python",
   "pygments_lexer": "ipython3",
   "version": "3.7.12"
  },
  "papermill": {
   "default_parameters": {},
   "duration": 24.412132,
   "end_time": "2022-05-19T10:37:34.144233",
   "environment_variables": {},
   "exception": null,
   "input_path": "__notebook__.ipynb",
   "output_path": "__notebook__.ipynb",
   "parameters": {},
   "start_time": "2022-05-19T10:37:09.732101",
   "version": "2.3.4"
  }
 },
 "nbformat": 4,
 "nbformat_minor": 5
}
